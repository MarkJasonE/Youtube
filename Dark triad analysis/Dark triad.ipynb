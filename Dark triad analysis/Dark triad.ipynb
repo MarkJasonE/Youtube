{
 "cells": [
  {
   "cell_type": "code",
   "execution_count": 1,
   "metadata": {
    "executionInfo": {
     "elapsed": 247,
     "status": "ok",
     "timestamp": 1622377285379,
     "user": {
      "displayName": "Jason Egipto",
      "photoUrl": "",
      "userId": "06587960509591014365"
     },
     "user_tz": -180
    },
    "id": "NVCdRt3kIQGU"
   },
   "outputs": [],
   "source": [
    "import os\n",
    "import pandas as pd\n",
    "import seaborn as sns\n",
    "import matplotlib.pyplot as plt"
   ]
  },
  {
   "cell_type": "code",
   "execution_count": 2,
   "metadata": {
    "colab": {
     "base_uri": "https://localhost:8080/"
    },
    "executionInfo": {
     "elapsed": 20,
     "status": "ok",
     "timestamp": 1622375964279,
     "user": {
      "displayName": "Jason Egipto",
      "photoUrl": "",
      "userId": "06587960509591014365"
     },
     "user_tz": -180
    },
    "id": "vcP1Y-ioIQGa",
    "outputId": "77e1a11c-b03d-44b4-ebe9-f87982914e05"
   },
   "outputs": [
    {
     "name": "stdout",
     "output_type": "stream",
     "text": [
      "['.ipynb_checkpoints', 'Dark triad.ipynb', 'dataset', 'README.md']\n"
     ]
    }
   ],
   "source": [
    "cwd = os.getcwd()\n",
    "files = os.listdir(cwd)\n",
    "print(files)"
   ]
  },
  {
   "cell_type": "code",
   "execution_count": 13,
   "metadata": {},
   "outputs": [],
   "source": [
    "#get path\n",
    "dataset_path = \"dataset/\""
   ]
  },
  {
   "cell_type": "code",
   "execution_count": 27,
   "metadata": {},
   "outputs": [],
   "source": [
    "#Convert xlsx to csv, then convert csv to dataframe\n",
    "def xlsx_to_csv(path, filename):\n",
    "    xlsx_ext = \"xlsx\"\n",
    "    csv_ext = \"csv\"\n",
    "    success_flag = \"_converted\"\n",
    "    xlsx_file = pd.read_excel(path + filename + \".\" + xlsx_ext)\n",
    "    xlsx_file.to_csv(path + filename + success_flag + \".\" + csv_ext, index=None, header=True)\n",
    "    print(\"Conversion complete\")"
   ]
  },
  {
   "cell_type": "code",
   "execution_count": 28,
   "metadata": {
    "executionInfo": {
     "elapsed": 12,
     "status": "ok",
     "timestamp": 1622375996483,
     "user": {
      "displayName": "Jason Egipto",
      "photoUrl": "",
      "userId": "06587960509591014365"
     },
     "user_tz": -180
    },
    "id": "tuKMzAsUIQGc"
   },
   "outputs": [
    {
     "name": "stdout",
     "output_type": "stream",
     "text": [
      "Conversion complete\n"
     ]
    }
   ],
   "source": [
    "xlsx_to_csv(dataset_path, \"dark_triad\")\n",
    "data = pd.DataFrame(pd.read_csv(\"dataset/dark_triad.csv\"))"
   ]
  },
  {
   "cell_type": "code",
   "execution_count": 29,
   "metadata": {
    "colab": {
     "base_uri": "https://localhost:8080/",
     "height": 376
    },
    "executionInfo": {
     "elapsed": 262,
     "status": "ok",
     "timestamp": 1622375999454,
     "user": {
      "displayName": "Jason Egipto",
      "photoUrl": "",
      "userId": "06587960509591014365"
     },
     "user_tz": -180
    },
    "id": "T6evAcjPIQGd",
    "outputId": "6a45708d-6f02-4feb-eca3-00c8c8958c92"
   },
   "outputs": [
    {
     "data": {
      "text/html": [
       "<div>\n",
       "<style scoped>\n",
       "    .dataframe tbody tr th:only-of-type {\n",
       "        vertical-align: middle;\n",
       "    }\n",
       "\n",
       "    .dataframe tbody tr th {\n",
       "        vertical-align: top;\n",
       "    }\n",
       "\n",
       "    .dataframe thead th {\n",
       "        text-align: right;\n",
       "    }\n",
       "</style>\n",
       "<table border=\"1\" class=\"dataframe\">\n",
       "  <thead>\n",
       "    <tr style=\"text-align: right;\">\n",
       "      <th></th>\n",
       "      <th>Self-perceived attractiveness</th>\n",
       "      <th>Number of sexual partners</th>\n",
       "      <th>Mate value</th>\n",
       "      <th>Sex (0 = male, 1 = female)</th>\n",
       "      <th>Machiavellianism</th>\n",
       "      <th>Narcissism</th>\n",
       "      <th>Psychopathy</th>\n",
       "    </tr>\n",
       "  </thead>\n",
       "  <tbody>\n",
       "    <tr>\n",
       "      <th>0</th>\n",
       "      <td>4</td>\n",
       "      <td>3</td>\n",
       "      <td>21</td>\n",
       "      <td>0</td>\n",
       "      <td>32</td>\n",
       "      <td>32</td>\n",
       "      <td>30</td>\n",
       "    </tr>\n",
       "    <tr>\n",
       "      <th>1</th>\n",
       "      <td>3</td>\n",
       "      <td>4</td>\n",
       "      <td>21</td>\n",
       "      <td>0</td>\n",
       "      <td>30</td>\n",
       "      <td>23</td>\n",
       "      <td>27</td>\n",
       "    </tr>\n",
       "    <tr>\n",
       "      <th>2</th>\n",
       "      <td>2</td>\n",
       "      <td>12</td>\n",
       "      <td>18</td>\n",
       "      <td>0</td>\n",
       "      <td>24</td>\n",
       "      <td>19</td>\n",
       "      <td>28</td>\n",
       "    </tr>\n",
       "    <tr>\n",
       "      <th>3</th>\n",
       "      <td>1</td>\n",
       "      <td>10</td>\n",
       "      <td>16</td>\n",
       "      <td>0</td>\n",
       "      <td>33</td>\n",
       "      <td>21</td>\n",
       "      <td>24</td>\n",
       "    </tr>\n",
       "    <tr>\n",
       "      <th>4</th>\n",
       "      <td>3</td>\n",
       "      <td>1</td>\n",
       "      <td>22</td>\n",
       "      <td>0</td>\n",
       "      <td>22</td>\n",
       "      <td>24</td>\n",
       "      <td>14</td>\n",
       "    </tr>\n",
       "    <tr>\n",
       "      <th>5</th>\n",
       "      <td>3</td>\n",
       "      <td>3</td>\n",
       "      <td>21</td>\n",
       "      <td>0</td>\n",
       "      <td>14</td>\n",
       "      <td>29</td>\n",
       "      <td>25</td>\n",
       "    </tr>\n",
       "    <tr>\n",
       "      <th>6</th>\n",
       "      <td>4</td>\n",
       "      <td>4</td>\n",
       "      <td>20</td>\n",
       "      <td>0</td>\n",
       "      <td>12</td>\n",
       "      <td>27</td>\n",
       "      <td>23</td>\n",
       "    </tr>\n",
       "    <tr>\n",
       "      <th>7</th>\n",
       "      <td>3</td>\n",
       "      <td>10</td>\n",
       "      <td>24</td>\n",
       "      <td>0</td>\n",
       "      <td>35</td>\n",
       "      <td>36</td>\n",
       "      <td>23</td>\n",
       "    </tr>\n",
       "    <tr>\n",
       "      <th>8</th>\n",
       "      <td>4</td>\n",
       "      <td>0</td>\n",
       "      <td>18</td>\n",
       "      <td>0</td>\n",
       "      <td>16</td>\n",
       "      <td>21</td>\n",
       "      <td>19</td>\n",
       "    </tr>\n",
       "    <tr>\n",
       "      <th>9</th>\n",
       "      <td>3</td>\n",
       "      <td>0</td>\n",
       "      <td>17</td>\n",
       "      <td>0</td>\n",
       "      <td>30</td>\n",
       "      <td>16</td>\n",
       "      <td>22</td>\n",
       "    </tr>\n",
       "  </tbody>\n",
       "</table>\n",
       "</div>"
      ],
      "text/plain": [
       "   Self-perceived attractiveness  Number of sexual partners  Mate value  \\\n",
       "0                              4                          3          21   \n",
       "1                              3                          4          21   \n",
       "2                              2                         12          18   \n",
       "3                              1                         10          16   \n",
       "4                              3                          1          22   \n",
       "5                              3                          3          21   \n",
       "6                              4                          4          20   \n",
       "7                              3                         10          24   \n",
       "8                              4                          0          18   \n",
       "9                              3                          0          17   \n",
       "\n",
       "   Sex (0 = male, 1 = female)  Machiavellianism  Narcissism  Psychopathy  \n",
       "0                           0                32          32           30  \n",
       "1                           0                30          23           27  \n",
       "2                           0                24          19           28  \n",
       "3                           0                33          21           24  \n",
       "4                           0                22          24           14  \n",
       "5                           0                14          29           25  \n",
       "6                           0                12          27           23  \n",
       "7                           0                35          36           23  \n",
       "8                           0                16          21           19  \n",
       "9                           0                30          16           22  "
      ]
     },
     "execution_count": 29,
     "metadata": {},
     "output_type": "execute_result"
    }
   ],
   "source": [
    "data.head(10)"
   ]
  },
  {
   "cell_type": "code",
   "execution_count": 10,
   "metadata": {
    "colab": {
     "base_uri": "https://localhost:8080/"
    },
    "executionInfo": {
     "elapsed": 253,
     "status": "ok",
     "timestamp": 1622376031172,
     "user": {
      "displayName": "Jason Egipto",
      "photoUrl": "",
      "userId": "06587960509591014365"
     },
     "user_tz": -180
    },
    "id": "twh3jt4wIQGe",
    "outputId": "d3d3ca7d-3b9f-406d-d513-c15e541c2527"
   },
   "outputs": [
    {
     "data": {
      "text/plain": [
       "(210, 7)"
      ]
     },
     "execution_count": 10,
     "metadata": {},
     "output_type": "execute_result"
    }
   ],
   "source": [
    "data.shape"
   ]
  },
  {
   "cell_type": "code",
   "execution_count": 11,
   "metadata": {
    "colab": {
     "base_uri": "https://localhost:8080/"
    },
    "executionInfo": {
     "elapsed": 359,
     "status": "ok",
     "timestamp": 1622376034518,
     "user": {
      "displayName": "Jason Egipto",
      "photoUrl": "",
      "userId": "06587960509591014365"
     },
     "user_tz": -180
    },
    "id": "Ivi4MPQ4IQGf",
    "outputId": "7b13e806-d0ed-4364-e544-e8ba8a879b97"
   },
   "outputs": [
    {
     "name": "stdout",
     "output_type": "stream",
     "text": [
      "<class 'pandas.core.frame.DataFrame'>\n",
      "RangeIndex: 210 entries, 0 to 209\n",
      "Data columns (total 7 columns):\n",
      " #   Column                         Non-Null Count  Dtype\n",
      "---  ------                         --------------  -----\n",
      " 0   Self-perceived attractiveness  210 non-null    int64\n",
      " 1   Number of sexual partners      210 non-null    int64\n",
      " 2   Mate value                     210 non-null    int64\n",
      " 3   Sex (0 = male, 1 = female)     210 non-null    int64\n",
      " 4   Machiavellianism               210 non-null    int64\n",
      " 5   Narcissism                     210 non-null    int64\n",
      " 6   Psychopathy                    210 non-null    int64\n",
      "dtypes: int64(7)\n",
      "memory usage: 11.6 KB\n"
     ]
    }
   ],
   "source": [
    "data.info()"
   ]
  },
  {
   "cell_type": "code",
   "execution_count": 12,
   "metadata": {
    "colab": {
     "base_uri": "https://localhost:8080/",
     "height": 314
    },
    "executionInfo": {
     "elapsed": 242,
     "status": "ok",
     "timestamp": 1622380300564,
     "user": {
      "displayName": "Jason Egipto",
      "photoUrl": "",
      "userId": "06587960509591014365"
     },
     "user_tz": -180
    },
    "id": "Zil1HfGPZroX",
    "outputId": "a54eb226-532d-4184-b20e-3900c8d82b4a"
   },
   "outputs": [
    {
     "data": {
      "text/html": [
       "<div>\n",
       "<style scoped>\n",
       "    .dataframe tbody tr th:only-of-type {\n",
       "        vertical-align: middle;\n",
       "    }\n",
       "\n",
       "    .dataframe tbody tr th {\n",
       "        vertical-align: top;\n",
       "    }\n",
       "\n",
       "    .dataframe thead th {\n",
       "        text-align: right;\n",
       "    }\n",
       "</style>\n",
       "<table border=\"1\" class=\"dataframe\">\n",
       "  <thead>\n",
       "    <tr style=\"text-align: right;\">\n",
       "      <th></th>\n",
       "      <th>Self-perceived attractiveness</th>\n",
       "      <th>Number of sexual partners</th>\n",
       "      <th>Mate value</th>\n",
       "      <th>Sex (0 = male, 1 = female)</th>\n",
       "      <th>Machiavellianism</th>\n",
       "      <th>Narcissism</th>\n",
       "      <th>Psychopathy</th>\n",
       "    </tr>\n",
       "  </thead>\n",
       "  <tbody>\n",
       "    <tr>\n",
       "      <th>count</th>\n",
       "      <td>210.000000</td>\n",
       "      <td>210.000000</td>\n",
       "      <td>210.000000</td>\n",
       "      <td>210.000000</td>\n",
       "      <td>210.000000</td>\n",
       "      <td>210.000000</td>\n",
       "      <td>210.00000</td>\n",
       "    </tr>\n",
       "    <tr>\n",
       "      <th>mean</th>\n",
       "      <td>3.352381</td>\n",
       "      <td>4.895238</td>\n",
       "      <td>19.776190</td>\n",
       "      <td>0.490476</td>\n",
       "      <td>24.147619</td>\n",
       "      <td>25.466667</td>\n",
       "      <td>19.37619</td>\n",
       "    </tr>\n",
       "    <tr>\n",
       "      <th>std</th>\n",
       "      <td>0.846959</td>\n",
       "      <td>5.550850</td>\n",
       "      <td>4.283316</td>\n",
       "      <td>0.501104</td>\n",
       "      <td>6.651411</td>\n",
       "      <td>5.089753</td>\n",
       "      <td>5.67850</td>\n",
       "    </tr>\n",
       "    <tr>\n",
       "      <th>min</th>\n",
       "      <td>1.000000</td>\n",
       "      <td>0.000000</td>\n",
       "      <td>5.000000</td>\n",
       "      <td>0.000000</td>\n",
       "      <td>9.000000</td>\n",
       "      <td>12.000000</td>\n",
       "      <td>9.00000</td>\n",
       "    </tr>\n",
       "    <tr>\n",
       "      <th>25%</th>\n",
       "      <td>3.000000</td>\n",
       "      <td>1.000000</td>\n",
       "      <td>17.000000</td>\n",
       "      <td>0.000000</td>\n",
       "      <td>20.000000</td>\n",
       "      <td>22.000000</td>\n",
       "      <td>15.00000</td>\n",
       "    </tr>\n",
       "    <tr>\n",
       "      <th>50%</th>\n",
       "      <td>3.000000</td>\n",
       "      <td>3.000000</td>\n",
       "      <td>20.000000</td>\n",
       "      <td>0.000000</td>\n",
       "      <td>23.000000</td>\n",
       "      <td>25.000000</td>\n",
       "      <td>19.00000</td>\n",
       "    </tr>\n",
       "    <tr>\n",
       "      <th>75%</th>\n",
       "      <td>4.000000</td>\n",
       "      <td>6.000000</td>\n",
       "      <td>23.000000</td>\n",
       "      <td>1.000000</td>\n",
       "      <td>30.000000</td>\n",
       "      <td>28.000000</td>\n",
       "      <td>23.75000</td>\n",
       "    </tr>\n",
       "    <tr>\n",
       "      <th>max</th>\n",
       "      <td>5.000000</td>\n",
       "      <td>35.000000</td>\n",
       "      <td>28.000000</td>\n",
       "      <td>1.000000</td>\n",
       "      <td>41.000000</td>\n",
       "      <td>43.000000</td>\n",
       "      <td>37.00000</td>\n",
       "    </tr>\n",
       "  </tbody>\n",
       "</table>\n",
       "</div>"
      ],
      "text/plain": [
       "       Self-perceived attractiveness  Number of sexual partners  Mate value  \\\n",
       "count                     210.000000                 210.000000  210.000000   \n",
       "mean                        3.352381                   4.895238   19.776190   \n",
       "std                         0.846959                   5.550850    4.283316   \n",
       "min                         1.000000                   0.000000    5.000000   \n",
       "25%                         3.000000                   1.000000   17.000000   \n",
       "50%                         3.000000                   3.000000   20.000000   \n",
       "75%                         4.000000                   6.000000   23.000000   \n",
       "max                         5.000000                  35.000000   28.000000   \n",
       "\n",
       "       Sex (0 = male, 1 = female)  Machiavellianism  Narcissism  Psychopathy  \n",
       "count                  210.000000        210.000000  210.000000    210.00000  \n",
       "mean                     0.490476         24.147619   25.466667     19.37619  \n",
       "std                      0.501104          6.651411    5.089753      5.67850  \n",
       "min                      0.000000          9.000000   12.000000      9.00000  \n",
       "25%                      0.000000         20.000000   22.000000     15.00000  \n",
       "50%                      0.000000         23.000000   25.000000     19.00000  \n",
       "75%                      1.000000         30.000000   28.000000     23.75000  \n",
       "max                      1.000000         41.000000   43.000000     37.00000  "
      ]
     },
     "execution_count": 12,
     "metadata": {},
     "output_type": "execute_result"
    }
   ],
   "source": [
    "data.describe()"
   ]
  },
  {
   "cell_type": "markdown",
   "metadata": {
    "id": "-EZ1GPzKIQGf"
   },
   "source": [
    "## Preprocessing"
   ]
  },
  {
   "cell_type": "code",
   "execution_count": 13,
   "metadata": {
    "executionInfo": {
     "elapsed": 338,
     "status": "ok",
     "timestamp": 1622376453347,
     "user": {
      "displayName": "Jason Egipto",
      "photoUrl": "",
      "userId": "06587960509591014365"
     },
     "user_tz": -180
    },
    "id": "-v2uawjfIQGg"
   },
   "outputs": [],
   "source": [
    "def preprocess(df):\n",
    "    df = df.copy()\n",
    "    \n",
    "    #Sex preprocess\n",
    "    df.rename(columns = {\"Sex (0 = male, 1 = female)\": \"Sex\"}, inplace=True)\n",
    "    \n",
    "    return df"
   ]
  },
  {
   "cell_type": "code",
   "execution_count": 14,
   "metadata": {
    "executionInfo": {
     "elapsed": 261,
     "status": "ok",
     "timestamp": 1622376456389,
     "user": {
      "displayName": "Jason Egipto",
      "photoUrl": "",
      "userId": "06587960509591014365"
     },
     "user_tz": -180
    },
    "id": "colkaFapIQGg"
   },
   "outputs": [],
   "source": [
    "X = preprocess(data)"
   ]
  },
  {
   "cell_type": "code",
   "execution_count": 15,
   "metadata": {
    "colab": {
     "base_uri": "https://localhost:8080/",
     "height": 204
    },
    "executionInfo": {
     "elapsed": 266,
     "status": "ok",
     "timestamp": 1622376459579,
     "user": {
      "displayName": "Jason Egipto",
      "photoUrl": "",
      "userId": "06587960509591014365"
     },
     "user_tz": -180
    },
    "id": "sz56TLH5IQGh",
    "outputId": "3a8a3c1f-bdcf-4332-aec3-80832281f943"
   },
   "outputs": [
    {
     "data": {
      "text/html": [
       "<div>\n",
       "<style scoped>\n",
       "    .dataframe tbody tr th:only-of-type {\n",
       "        vertical-align: middle;\n",
       "    }\n",
       "\n",
       "    .dataframe tbody tr th {\n",
       "        vertical-align: top;\n",
       "    }\n",
       "\n",
       "    .dataframe thead th {\n",
       "        text-align: right;\n",
       "    }\n",
       "</style>\n",
       "<table border=\"1\" class=\"dataframe\">\n",
       "  <thead>\n",
       "    <tr style=\"text-align: right;\">\n",
       "      <th></th>\n",
       "      <th>Self-perceived attractiveness</th>\n",
       "      <th>Number of sexual partners</th>\n",
       "      <th>Mate value</th>\n",
       "      <th>Sex</th>\n",
       "      <th>Machiavellianism</th>\n",
       "      <th>Narcissism</th>\n",
       "      <th>Psychopathy</th>\n",
       "    </tr>\n",
       "  </thead>\n",
       "  <tbody>\n",
       "    <tr>\n",
       "      <th>0</th>\n",
       "      <td>4</td>\n",
       "      <td>3</td>\n",
       "      <td>21</td>\n",
       "      <td>0</td>\n",
       "      <td>32</td>\n",
       "      <td>32</td>\n",
       "      <td>30</td>\n",
       "    </tr>\n",
       "    <tr>\n",
       "      <th>1</th>\n",
       "      <td>3</td>\n",
       "      <td>4</td>\n",
       "      <td>21</td>\n",
       "      <td>0</td>\n",
       "      <td>30</td>\n",
       "      <td>23</td>\n",
       "      <td>27</td>\n",
       "    </tr>\n",
       "    <tr>\n",
       "      <th>2</th>\n",
       "      <td>2</td>\n",
       "      <td>12</td>\n",
       "      <td>18</td>\n",
       "      <td>0</td>\n",
       "      <td>24</td>\n",
       "      <td>19</td>\n",
       "      <td>28</td>\n",
       "    </tr>\n",
       "    <tr>\n",
       "      <th>3</th>\n",
       "      <td>1</td>\n",
       "      <td>10</td>\n",
       "      <td>16</td>\n",
       "      <td>0</td>\n",
       "      <td>33</td>\n",
       "      <td>21</td>\n",
       "      <td>24</td>\n",
       "    </tr>\n",
       "    <tr>\n",
       "      <th>4</th>\n",
       "      <td>3</td>\n",
       "      <td>1</td>\n",
       "      <td>22</td>\n",
       "      <td>0</td>\n",
       "      <td>22</td>\n",
       "      <td>24</td>\n",
       "      <td>14</td>\n",
       "    </tr>\n",
       "  </tbody>\n",
       "</table>\n",
       "</div>"
      ],
      "text/plain": [
       "   Self-perceived attractiveness  Number of sexual partners  Mate value  Sex  \\\n",
       "0                              4                          3          21    0   \n",
       "1                              3                          4          21    0   \n",
       "2                              2                         12          18    0   \n",
       "3                              1                         10          16    0   \n",
       "4                              3                          1          22    0   \n",
       "\n",
       "   Machiavellianism  Narcissism  Psychopathy  \n",
       "0                32          32           30  \n",
       "1                30          23           27  \n",
       "2                24          19           28  \n",
       "3                33          21           24  \n",
       "4                22          24           14  "
      ]
     },
     "execution_count": 15,
     "metadata": {},
     "output_type": "execute_result"
    }
   ],
   "source": [
    "X.head()"
   ]
  },
  {
   "cell_type": "code",
   "execution_count": 16,
   "metadata": {
    "colab": {
     "base_uri": "https://localhost:8080/",
     "height": 300
    },
    "executionInfo": {
     "elapsed": 639,
     "status": "ok",
     "timestamp": 1622380146958,
     "user": {
      "displayName": "Jason Egipto",
      "photoUrl": "",
      "userId": "06587960509591014365"
     },
     "user_tz": -180
    },
    "id": "4c13r5YdSv0g",
    "outputId": "54367f9c-0212-4a33-ed6c-efa6e4ba7196"
   },
   "outputs": [
    {
     "data": {
      "image/png": "[encoded data removed]",
      "text/plain": [
       "<Figure size 432x288 with 1 Axes>"
      ]
     },
     "metadata": {
      "needs_background": "light"
     },
     "output_type": "display_data"
    }
   ],
   "source": [
    "# Number of sexual partners distribution (target)\n",
    "sns.histplot(X[\"Number of sexual partners\"], kde=True)\n",
    "plt.title(\"Number of sexual partners\", fontsize=20)\n",
    "plt.show()"
   ]
  },
  {
   "cell_type": "code",
   "execution_count": 17,
   "metadata": {
    "colab": {
     "base_uri": "https://localhost:8080/",
     "height": 286
    },
    "executionInfo": {
     "elapsed": 366,
     "status": "ok",
     "timestamp": 1622381907661,
     "user": {
      "displayName": "Jason Egipto",
      "photoUrl": "",
      "userId": "06587960509591014365"
     },
     "user_tz": -180
    },
    "id": "ahyS_nMzYQoG",
    "outputId": "0f94a22e-8849-45a6-8196-29299a8358c5"
   },
   "outputs": [
    {
     "data": {
      "image/png": "[encoded data removed]",
      "text/plain": [
       "<Figure size 432x288 with 1 Axes>"
      ]
     },
     "metadata": {
      "needs_background": "light"
     },
     "output_type": "display_data"
    }
   ],
   "source": [
    "#Self-perceived attractiveness distribution\n",
    "plt.hist(X[\"Self-perceived attractiveness\"], histtype=\"step\", facecolor=\"red\", hatch=\"/\", edgecolor=\"green\", fill=True)\n",
    "plt.title(\"Self-perceived attractiveness distribution\", fontsize=20)\n",
    "plt.show()"
   ]
  },
  {
   "cell_type": "code",
   "execution_count": 31,
   "metadata": {},
   "outputs": [
    {
     "name": "stdout",
     "output_type": "stream",
     "text": [
      "107 103\n"
     ]
    }
   ],
   "source": [
    "male_count = (X[\"Sex\"] == 0).sum() #Male\n",
    "female_count = (X[\"Sex\"] == 1).sum() #Female\n",
    "#print(male_count, female_count)"
   ]
  },
  {
   "cell_type": "code",
   "execution_count": 32,
   "metadata": {
    "colab": {
     "base_uri": "https://localhost:8080/",
     "height": 300
    },
    "executionInfo": {
     "elapsed": 350,
     "status": "ok",
     "timestamp": 1622379848435,
     "user": {
      "displayName": "Jason Egipto",
      "photoUrl": "",
      "userId": "06587960509591014365"
     },
     "user_tz": -180
    },
    "id": "H2m2Da9QLGgv",
    "outputId": "a582170f-546f-4655-fc73-c6c61cc1bdcd"
   },
   "outputs": [
    {
     "data": {
      "image/png": "[encoded data removed]",
      "text/plain": [
       "<Figure size 432x288 with 1 Axes>"
      ]
     },
     "metadata": {
      "needs_background": "light"
     },
     "output_type": "display_data"
    }
   ],
   "source": [
    "#Sex distribution\n",
    "plt.bar([\"Male\", \"Female\"], [male_count, female_count])\n",
    "plt.title(\"Sex distribution\", fontsize=20)\n",
    "plt.show()"
   ]
  },
  {
   "cell_type": "code",
   "execution_count": 19,
   "metadata": {
    "colab": {
     "base_uri": "https://localhost:8080/",
     "height": 1000
    },
    "executionInfo": {
     "elapsed": 1776,
     "status": "ok",
     "timestamp": 1622379733539,
     "user": {
      "displayName": "Jason Egipto",
      "photoUrl": "",
      "userId": "06587960509591014365"
     },
     "user_tz": -180
    },
    "id": "OOW-xjbjK5D2",
    "outputId": "b2393545-8c44-47bb-e240-d19cbcf28934"
   },
   "outputs": [
    {
     "data": {
      "image/png": "[encoded data removed]",
      "text/plain": [
       "<Figure size 360x360 with 1 Axes>"
      ]
     },
     "metadata": {
      "needs_background": "light"
     },
     "output_type": "display_data"
    },
    {
     "data": {
      "image/png": "[encoded data removed]",
      "text/plain": [
       "<Figure size 360x360 with 1 Axes>"
      ]
     },
     "metadata": {
      "needs_background": "light"
     },
     "output_type": "display_data"
    },
    {
     "data": {
      "image/png": "[encoded data removed]",
      "text/plain": [
       "<Figure size 360x360 with 1 Axes>"
      ]
     },
     "metadata": {
      "needs_background": "light"
     },
     "output_type": "display_data"
    }
   ],
   "source": [
    "#Plot dark triad traits\n",
    "narc = \"Narcissism\"\n",
    "mach = \"Machiavellianism\"\n",
    "psyc = \"Psychopathy\"\n",
    "\n",
    "sns.displot(data=X, x=narc, kde=True)\n",
    "plt.title(\"Narcissism distribution\", fontsize=20)\n",
    "sns.displot(data=X, x=mach, kde=True)\n",
    "plt.title(\"Machiavellianism distribution\", fontsize=20)\n",
    "sns.displot(data=X, x=psyc, kde=True)\n",
    "plt.title(\"Psychopathy distribution\", fontsize=20)\n",
    "\n",
    "plt.show()"
   ]
  },
  {
   "cell_type": "markdown",
   "metadata": {
    "id": "a46ukeTTaRfC"
   },
   "source": [
    "# Correlation"
   ]
  },
  {
   "cell_type": "code",
   "execution_count": 20,
   "metadata": {
    "colab": {
     "base_uri": "https://localhost:8080/",
     "height": 221
    },
    "executionInfo": {
     "elapsed": 11,
     "status": "ok",
     "timestamp": 1622381173327,
     "user": {
      "displayName": "Jason Egipto",
      "photoUrl": "",
      "userId": "06587960509591014365"
     },
     "user_tz": -180
    },
    "id": "gss8PkweaUgY",
    "outputId": "4658e123-7a84-4e5e-9185-1ec38ff30901"
   },
   "outputs": [
    {
     "data": {
      "text/html": [
       "<style  type=\"text/css\" >\n",
       "#T_12486_row0_col0,#T_12486_row1_col1,#T_12486_row2_col2,#T_12486_row3_col3,#T_12486_row4_col4,#T_12486_row5_col5,#T_12486_row6_col6{\n",
       "            background-color:  #c3553a;\n",
       "            color:  #000000;\n",
       "        }#T_12486_row0_col1,#T_12486_row1_col0{\n",
       "            background-color:  #bed2d8;\n",
       "            color:  #000000;\n",
       "        }#T_12486_row0_col2,#T_12486_row2_col0{\n",
       "            background-color:  #e4c2ba;\n",
       "            color:  #000000;\n",
       "        }#T_12486_row0_col3,#T_12486_row3_col0{\n",
       "            background-color:  #b3cad2;\n",
       "            color:  #000000;\n",
       "        }#T_12486_row0_col4,#T_12486_row4_col0{\n",
       "            background-color:  #9bbbc5;\n",
       "            color:  #000000;\n",
       "        }#T_12486_row0_col5,#T_12486_row1_col6,#T_12486_row4_col5,#T_12486_row5_col0,#T_12486_row5_col4,#T_12486_row6_col1{\n",
       "            background-color:  #f2f2f2;\n",
       "            color:  #000000;\n",
       "        }#T_12486_row0_col6,#T_12486_row6_col0{\n",
       "            background-color:  #abc5ce;\n",
       "            color:  #000000;\n",
       "        }#T_12486_row1_col2,#T_12486_row1_col4,#T_12486_row2_col1,#T_12486_row4_col1{\n",
       "            background-color:  #d0dde1;\n",
       "            color:  #000000;\n",
       "        }#T_12486_row1_col3,#T_12486_row3_col1{\n",
       "            background-color:  #5890a1;\n",
       "            color:  #000000;\n",
       "        }#T_12486_row1_col5,#T_12486_row5_col1{\n",
       "            background-color:  #dbe5e8;\n",
       "            color:  #000000;\n",
       "        }#T_12486_row2_col3,#T_12486_row3_col2{\n",
       "            background-color:  #b4cbd2;\n",
       "            color:  #000000;\n",
       "        }#T_12486_row2_col4,#T_12486_row4_col2{\n",
       "            background-color:  #a8c4cc;\n",
       "            color:  #000000;\n",
       "        }#T_12486_row2_col5,#T_12486_row5_col2{\n",
       "            background-color:  #ebd7d3;\n",
       "            color:  #000000;\n",
       "        }#T_12486_row2_col6,#T_12486_row3_col5,#T_12486_row5_col3,#T_12486_row6_col2{\n",
       "            background-color:  #94b7c1;\n",
       "            color:  #000000;\n",
       "        }#T_12486_row3_col4,#T_12486_row4_col3{\n",
       "            background-color:  #72a0af;\n",
       "            color:  #000000;\n",
       "        }#T_12486_row3_col6,#T_12486_row6_col3{\n",
       "            background-color:  #3f7f93;\n",
       "            color:  #000000;\n",
       "        }#T_12486_row4_col6,#T_12486_row6_col4{\n",
       "            background-color:  #e8cfc9;\n",
       "            color:  #000000;\n",
       "        }#T_12486_row5_col6,#T_12486_row6_col5{\n",
       "            background-color:  #e6ebed;\n",
       "            color:  #000000;\n",
       "        }</style><table id=\"T_12486_\" ><thead>    <tr>        <th class=\"blank level0\" ></th>        <th class=\"col_heading level0 col0\" >Self-perceived attractiveness</th>        <th class=\"col_heading level0 col1\" >Number of sexual partners</th>        <th class=\"col_heading level0 col2\" >Mate value</th>        <th class=\"col_heading level0 col3\" >Sex</th>        <th class=\"col_heading level0 col4\" >Machiavellianism</th>        <th class=\"col_heading level0 col5\" >Narcissism</th>        <th class=\"col_heading level0 col6\" >Psychopathy</th>    </tr></thead><tbody>\n",
       "                <tr>\n",
       "                        <th id=\"T_12486_level0_row0\" class=\"row_heading level0 row0\" >Self-perceived attractiveness</th>\n",
       "                        <td id=\"T_12486_row0_col0\" class=\"data row0 col0\" >1.000</td>\n",
       "                        <td id=\"T_12486_row0_col1\" class=\"data row0 col1\" >0.119</td>\n",
       "                        <td id=\"T_12486_row0_col2\" class=\"data row0 col2\" >0.574</td>\n",
       "                        <td id=\"T_12486_row0_col3\" class=\"data row0 col3\" >0.076</td>\n",
       "                        <td id=\"T_12486_row0_col4\" class=\"data row0 col4\" >-0.005</td>\n",
       "                        <td id=\"T_12486_row0_col5\" class=\"data row0 col5\" >0.362</td>\n",
       "                        <td id=\"T_12486_row0_col6\" class=\"data row0 col6\" >0.053</td>\n",
       "            </tr>\n",
       "            <tr>\n",
       "                        <th id=\"T_12486_level0_row1\" class=\"row_heading level0 row1\" >Number of sexual partners</th>\n",
       "                        <td id=\"T_12486_row1_col0\" class=\"data row1 col0\" >0.119</td>\n",
       "                        <td id=\"T_12486_row1_col1\" class=\"data row1 col1\" >1.000</td>\n",
       "                        <td id=\"T_12486_row1_col2\" class=\"data row1 col2\" >0.172</td>\n",
       "                        <td id=\"T_12486_row1_col3\" class=\"data row1 col3\" >-0.234</td>\n",
       "                        <td id=\"T_12486_row1_col4\" class=\"data row1 col4\" >0.173</td>\n",
       "                        <td id=\"T_12486_row1_col5\" class=\"data row1 col5\" >0.217</td>\n",
       "                        <td id=\"T_12486_row1_col6\" class=\"data row1 col6\" >0.352</td>\n",
       "            </tr>\n",
       "            <tr>\n",
       "                        <th id=\"T_12486_level0_row2\" class=\"row_heading level0 row2\" >Mate value</th>\n",
       "                        <td id=\"T_12486_row2_col0\" class=\"data row2 col0\" >0.574</td>\n",
       "                        <td id=\"T_12486_row2_col1\" class=\"data row2 col1\" >0.172</td>\n",
       "                        <td id=\"T_12486_row2_col2\" class=\"data row2 col2\" >1.000</td>\n",
       "                        <td id=\"T_12486_row2_col3\" class=\"data row2 col3\" >0.080</td>\n",
       "                        <td id=\"T_12486_row2_col4\" class=\"data row2 col4\" >0.041</td>\n",
       "                        <td id=\"T_12486_row2_col5\" class=\"data row2 col5\" >0.491</td>\n",
       "                        <td id=\"T_12486_row2_col6\" class=\"data row2 col6\" >-0.025</td>\n",
       "            </tr>\n",
       "            <tr>\n",
       "                        <th id=\"T_12486_level0_row3\" class=\"row_heading level0 row3\" >Sex</th>\n",
       "                        <td id=\"T_12486_row3_col0\" class=\"data row3 col0\" >0.076</td>\n",
       "                        <td id=\"T_12486_row3_col1\" class=\"data row3 col1\" >-0.234</td>\n",
       "                        <td id=\"T_12486_row3_col2\" class=\"data row3 col2\" >0.080</td>\n",
       "                        <td id=\"T_12486_row3_col3\" class=\"data row3 col3\" >1.000</td>\n",
       "                        <td id=\"T_12486_row3_col4\" class=\"data row3 col4\" >-0.148</td>\n",
       "                        <td id=\"T_12486_row3_col5\" class=\"data row3 col5\" >-0.026</td>\n",
       "                        <td id=\"T_12486_row3_col6\" class=\"data row3 col6\" >-0.324</td>\n",
       "            </tr>\n",
       "            <tr>\n",
       "                        <th id=\"T_12486_level0_row4\" class=\"row_heading level0 row4\" >Machiavellianism</th>\n",
       "                        <td id=\"T_12486_row4_col0\" class=\"data row4 col0\" >-0.005</td>\n",
       "                        <td id=\"T_12486_row4_col1\" class=\"data row4 col1\" >0.173</td>\n",
       "                        <td id=\"T_12486_row4_col2\" class=\"data row4 col2\" >0.041</td>\n",
       "                        <td id=\"T_12486_row4_col3\" class=\"data row4 col3\" >-0.148</td>\n",
       "                        <td id=\"T_12486_row4_col4\" class=\"data row4 col4\" >1.000</td>\n",
       "                        <td id=\"T_12486_row4_col5\" class=\"data row4 col5\" >0.315</td>\n",
       "                        <td id=\"T_12486_row4_col6\" class=\"data row4 col6\" >0.521</td>\n",
       "            </tr>\n",
       "            <tr>\n",
       "                        <th id=\"T_12486_level0_row5\" class=\"row_heading level0 row5\" >Narcissism</th>\n",
       "                        <td id=\"T_12486_row5_col0\" class=\"data row5 col0\" >0.362</td>\n",
       "                        <td id=\"T_12486_row5_col1\" class=\"data row5 col1\" >0.217</td>\n",
       "                        <td id=\"T_12486_row5_col2\" class=\"data row5 col2\" >0.491</td>\n",
       "                        <td id=\"T_12486_row5_col3\" class=\"data row5 col3\" >-0.026</td>\n",
       "                        <td id=\"T_12486_row5_col4\" class=\"data row5 col4\" >0.315</td>\n",
       "                        <td id=\"T_12486_row5_col5\" class=\"data row5 col5\" >1.000</td>\n",
       "                        <td id=\"T_12486_row5_col6\" class=\"data row5 col6\" >0.254</td>\n",
       "            </tr>\n",
       "            <tr>\n",
       "                        <th id=\"T_12486_level0_row6\" class=\"row_heading level0 row6\" >Psychopathy</th>\n",
       "                        <td id=\"T_12486_row6_col0\" class=\"data row6 col0\" >0.053</td>\n",
       "                        <td id=\"T_12486_row6_col1\" class=\"data row6 col1\" >0.352</td>\n",
       "                        <td id=\"T_12486_row6_col2\" class=\"data row6 col2\" >-0.025</td>\n",
       "                        <td id=\"T_12486_row6_col3\" class=\"data row6 col3\" >-0.324</td>\n",
       "                        <td id=\"T_12486_row6_col4\" class=\"data row6 col4\" >0.521</td>\n",
       "                        <td id=\"T_12486_row6_col5\" class=\"data row6 col5\" >0.254</td>\n",
       "                        <td id=\"T_12486_row6_col6\" class=\"data row6 col6\" >1.000</td>\n",
       "            </tr>\n",
       "    </tbody></table>"
      ],
      "text/plain": [
       "<pandas.io.formats.style.Styler at 0x1a55814d040>"
      ]
     },
     "execution_count": 20,
     "metadata": {},
     "output_type": "execute_result"
    }
   ],
   "source": [
    "corr = X.corr()\n",
    "cm = sns.light_palette(\"green\", as_cmap=True)\n",
    "cm = sns.diverging_palette(220, 20, sep=20,as_cmap=True)\n",
    "corr.style.background_gradient(cmap=cm, axis=None).set_precision(3)"
   ]
  },
  {
   "cell_type": "code",
   "execution_count": 21,
   "metadata": {
    "executionInfo": {
     "elapsed": 238,
     "status": "ok",
     "timestamp": 1622382118206,
     "user": {
      "displayName": "Jason Egipto",
      "photoUrl": "",
      "userId": "06587960509591014365"
     },
     "user_tz": -180
    },
    "id": "lZmNLuJtarBX"
   },
   "outputs": [],
   "source": [
    "#Add correlations for each sex separately"
   ]
  },
  {
   "cell_type": "markdown",
   "metadata": {},
   "source": [
    "# Long survey"
   ]
  },
  {
   "cell_type": "code",
   "execution_count": 30,
   "metadata": {
    "id": "CCJLhBXPgoLp"
   },
   "outputs": [
    {
     "name": "stdout",
     "output_type": "stream",
     "text": [
      "Conversion complete\n"
     ]
    }
   ],
   "source": [
    "xlsx_to_csv(dataset_path, \"dark_triad_survey\")\n",
    "x = pd.DataFrame(pd.read_csv(\"dataset/dark_triad_survey.csv\"))"
   ]
  },
  {
   "cell_type": "code",
   "execution_count": null,
   "metadata": {},
   "outputs": [],
   "source": []
  }
 ],
 "metadata": {
  "colab": {
   "collapsed_sections": [],
   "name": "Dark triad.ipynb",
   "provenance": [],
   "toc_visible": true
  },
  "kernelspec": {
   "display_name": "Python 3",
   "language": "python",
   "name": "python3"
  },
  "language_info": {
   "codemirror_mode": {
    "name": "ipython",
    "version": 3
   },
   "file_extension": ".py",
   "mimetype": "text/x-python",
   "name": "python",
   "nbconvert_exporter": "python",
   "pygments_lexer": "ipython3",
   "version": "3.8.5"
  }
 },
 "nbformat": 4,
 "nbformat_minor": 1
}
